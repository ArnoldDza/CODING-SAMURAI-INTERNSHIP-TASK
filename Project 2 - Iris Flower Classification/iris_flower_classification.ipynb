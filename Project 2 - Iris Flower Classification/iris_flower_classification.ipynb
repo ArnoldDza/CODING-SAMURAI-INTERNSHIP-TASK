{
 "cells": [
  {
   "cell_type": "code",
   "execution_count": null,
   "id": "a474d789",
   "metadata": {},
   "outputs": [],
   "source": [
    "# Iris Flower Classification\n",
    "\n",
    "import seaborn as sns\n",
    "import pandas as pd\n",
    "import matplotlib.pyplot as plt\n",
    "from sklearn.model_selection import train_test_split\n",
    "from sklearn.preprocessing import LabelEncoder\n",
    "from sklearn.ensemble import RandomForestClassifier\n",
    "from sklearn.metrics import accuracy_score\n",
    "import joblib\n",
    "\n",
    "# Load Dataset\n",
    "df = sns.load_dataset('iris')\n",
    "print(df.head())\n",
    "\n",
    "# Encode target\n",
    "le = LabelEncoder()\n",
    "df['species'] = le.fit_transform(df['species'])\n",
    "\n",
    "# Split data\n",
    "X = df.drop('species', axis=1)\n",
    "y = df['species']\n",
    "X_train, X_test, y_train, y_test = train_test_split(X, y, test_size=0.2, random_state=42)\n",
    "\n",
    "# Train model\n",
    "model = RandomForestClassifier()\n",
    "model.fit(X_train, y_train)\n",
    "\n",
    "# Predict & evaluate\n",
    "y_pred = model.predict(X_test)\n",
    "acc = accuracy_score(y_test, y_pred)\n",
    "print(f'Accuracy: {acc:.2f}')\n",
    "\n",
    "# Save model\n",
    "joblib.dump(model, 'model.pkl')\n"
   ]
  }
 ],
 "metadata": {
  "language_info": {
   "name": "python"
  }
 },
 "nbformat": 4,
 "nbformat_minor": 5
}
