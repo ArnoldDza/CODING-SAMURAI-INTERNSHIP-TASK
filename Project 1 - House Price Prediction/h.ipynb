{
 "cells": [
  {
   "cell_type": "code",
   "execution_count": null,
   "id": "f6a0042f",
   "metadata": {},
   "outputs": [],
   "source": [
    "# house_price_prediction.ipynb (Jupyter Notebook)\n",
    "\n",
    "# You can copy this content into a Jupyter notebook cell\n",
    "\n",
    "# 1. Import Libraries\n",
    "import pandas as pd\n",
    "import numpy as np\n",
    "import matplotlib.pyplot as plt\n",
    "import seaborn as sns\n",
    "from sklearn.model_selection import train_test_split\n",
    "from sklearn.linear_model import LinearRegression\n",
    "from sklearn.metrics import mean_squared_error, r2_score\n",
    "import joblib\n",
    "\n",
    "# 2. Load Dataset\n",
    "df = pd.read_csv(\"dataset/house_data.csv\")  # Place your CSV here\n",
    "print(df.head())\n",
    "\n",
    "# 3. Data Preprocessing\n",
    "# Example columns: ['area', 'bedrooms', 'bathrooms', 'location', 'price']\n",
    "df = pd.get_dummies(df, columns=['location'], drop_first=True)\n",
    "X = df.drop('price', axis=1)\n",
    "y = df['price']\n",
    "\n",
    "# 4. Train-Test Split\n",
    "X_train, X_test, y_train, y_test = train_test_split(X, y, test_size=0.2, random_state=42)\n",
    "\n",
    "# 5. Train the Model\n",
    "model = LinearRegression()\n",
    "model.fit(X_train, y_train)\n",
    "\n",
    "# 6. Predict and Evaluate\n",
    "y_pred = model.predict(X_test)\n",
    "print(\"R2 Score:\", r2_score(y_test, y_pred))\n",
    "print(\"MSE:\", mean_squared_error(y_test, y_pred))\n",
    "\n",
    "# 7. Save the Model\n",
    "joblib.dump(model, \"model.pkl\")\n",
    "\n",
    "# 8. Visualization\n",
    "plt.scatter(y_test, y_pred)\n",
    "plt.xlabel(\"Actual Prices\")\n",
    "plt.ylabel(\"Predicted Prices\")\n",
    "plt.title(\"Actual vs Predicted House Prices\")\n",
    "plt.show()\n"
   ]
  }
 ],
 "metadata": {
  "language_info": {
   "name": "python"
  }
 },
 "nbformat": 4,
 "nbformat_minor": 5
}
